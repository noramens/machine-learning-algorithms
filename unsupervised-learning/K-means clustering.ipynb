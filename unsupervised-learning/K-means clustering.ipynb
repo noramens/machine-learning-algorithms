{
 "cells": [
  {
   "cell_type": "code",
   "execution_count": 5,
   "id": "815735df",
   "metadata": {},
   "outputs": [],
   "source": [
    "#K-means clusttering using python\n",
    "\n",
    "#importing Numpy, Matplotlib and sklearn libraries\n",
    "import numpy as np \n",
    "import matplotlib.pyplot as plt\n",
    "\n",
    "from matplotlib import style\n",
    "style.use('ggplot')\n",
    "from sklearn.cluster import KMeans"
   ]
  },
  {
   "cell_type": "code",
   "execution_count": 6,
   "id": "5f6c435b",
   "metadata": {},
   "outputs": [
    {
     "data": {
      "image/png": "[encoded data removed]",
      "text/plain": [
       "<Figure size 432x288 with 1 Axes>"
      ]
     },
     "metadata": {},
     "output_type": "display_data"
    }
   ],
   "source": [
    "#plotting and visualising our data before feeding it into machine learning algorithm\n",
    "\n",
    "x = [1, 5, 1.5, 8, 1, 9] \n",
    "y = [2, 8, 1.8, 8, 0.6, 11]\n",
    "\n",
    "plt.scatter(x, y)\n",
    "plt.show()\n"
   ]
  },
  {
   "cell_type": "code",
   "execution_count": 10,
   "id": "93c8912f",
   "metadata": {},
   "outputs": [
    {
     "name": "stdout",
     "output_type": "stream",
     "text": [
      "centroids: \n",
      " [[7.33333333 9.        ]\n",
      " [1.16666667 1.46666667]]\n",
      "labels: \n",
      " [1 0 1 0 1 0]\n"
     ]
    }
   ],
   "source": [
    "#converting your data to a Numpy array\n",
    "\n",
    "X = np.array([[1, 2,], [5, 8], [1.5, 1.8], [8, 8], [1, 0.6], [9, 11]])\n",
    "\n",
    "#we initialise k-means algorithm with the required parameter and we use .fit() to fit the data\n",
    "kmeans = KMeans(n_clusters=2) #n_clusters being the number of clusters you want to make\n",
    "kmeans.fit(X)\n",
    "\n",
    "#getting the values of the centroids and labels based on the fitment\n",
    "centroids = kmeans.cluster_centers_\n",
    "labels = kmeans.labels_\n",
    "\n",
    "print('centroids: \\n', centroids)\n",
    "print('labels: \\n', labels)"
   ]
  },
  {
   "cell_type": "code",
   "execution_count": 11,
   "id": "b8394738",
   "metadata": {},
   "outputs": [
    {
     "name": "stdout",
     "output_type": "stream",
     "text": [
      "cordiante:  [1. 2.] label:  1\n",
      "cordiante:  [5. 8.] label:  0\n",
      "cordiante:  [1.5 1.8] label:  1\n",
      "cordiante:  [8. 8.] label:  0\n",
      "cordiante:  [1.  0.6] label:  1\n",
      "cordiante:  [ 9. 11.] label:  0\n"
     ]
    },
    {
     "data": {
      "image/png": "[encoded data removed]",
      "text/plain": [
       "<Figure size 432x288 with 1 Axes>"
      ]
     },
     "metadata": {},
     "output_type": "display_data"
    }
   ],
   "source": [
    "#plotting and visualisation of the output\n",
    "colors = ['g.', 'r.', 'c.', 'y.']\n",
    "\n",
    "for i in range(len(X)):\n",
    "    print('cordiante: ', X[i], 'label: ', labels[i])\n",
    "    plt.plot(X[i][0], X[i][1], colors[labels[i]], markersize=10)\n",
    "    \n",
    "plt.scatter(centroids[:, 0], centroids[:, 1], marker = 'x', s = 150, linewidths = 5, zorder = 10)\n",
    "plt.show()"
   ]
  },
  {
   "cell_type": "code",
   "execution_count": null,
   "id": "19386039",
   "metadata": {},
   "outputs": [],
   "source": []
  }
 ],
 "metadata": {
  "kernelspec": {
   "display_name": "Python 3 (ipykernel)",
   "language": "python",
   "name": "python3"
  },
  "language_info": {
   "codemirror_mode": {
    "name": "ipython",
    "version": 3
   },
   "file_extension": ".py",
   "mimetype": "text/x-python",
   "name": "python",
   "nbconvert_exporter": "python",
   "pygments_lexer": "ipython3",
   "version": "3.9.7"
  }
 },
 "nbformat": 4,
 "nbformat_minor": 5
}
