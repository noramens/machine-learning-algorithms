{
  "cells": [
    {
      "cell_type": "markdown",
      "metadata": {
        "colab_type": "text",
        "id": "view-in-github"
      },
      "source": [
        "<a href=\"https://colab.research.google.com/github/noramens/machine-learning-algorithms/blob/main/Multi_class_image_classification.ipynb\" target=\"_parent\"><img src=\"https://colab.research.google.com/assets/colab-badge.svg\" alt=\"Open In Colab\"/></a>"
      ]
    },
    {
      "cell_type": "markdown",
      "metadata": {
        "id": "AiOxwi4NgJmO"
      },
      "source": [
        "# Multiclass Image Classification using CNN"
      ]
    },
    {
      "cell_type": "markdown",
      "metadata": {
        "id": "AiOxwi4NgJmO"
      },
      "source": [
        "# Step 1. Load data directory from kaggle using API"
      ]
    },
    {
      "cell_type": "code",
      "execution_count": 1,
      "metadata": {
        "colab": {
          "base_uri": "https://localhost:8080/"
        },
        "id": "pl1Kbk4Sikwi",
        "outputId": "7beecf1f-2ee1-4494-eee5-509ad4c675be"
      },
      "outputs": [
        {
          "name": "stdout",
          "output_type": "stream",
          "text": [
            "Downloading multiclass-weather-dataset.zip to /content\n",
            " 87% 117M/134M [00:00<00:00, 187MB/s] \n",
            "100% 134M/134M [00:00<00:00, 158MB/s]\n"
          ]
        }
      ],
      "source": [
        "#loading data from kaggle\n",
        "import os\n",
        "os.environ['KAGGLE_USERNAME'] = \"noramens\" # username from the json file\n",
        "os.environ['KAGGLE_KEY'] = \"1ae1a6ddbe406b287f5252e594e647ec\" # key from the json file\n",
        "!kaggle datasets download -d vijaygiitk/multiclass-weather-dataset # api copied from kaggle"
      ]
    },
    {
      "cell_type": "code",
      "execution_count": 2,
      "metadata": {
        "colab": {
          "base_uri": "https://localhost:8080/"
        },
        "id": "YdM63WxdVKkB",
        "outputId": "da1e613d-68a5-461e-c727-6aa68f652c2e"
      },
      "outputs": [
        {
          "name": "stdout",
          "output_type": "stream",
          "text": [
            "done\n"
          ]
        }
      ],
      "source": [
        "# unzipping data\n",
        "from zipfile import ZipFile\n",
        "\n",
        "file_name = \"/content/multiclass-weather-dataset.zip\" # copy the file path\n",
        "\n",
        "with ZipFile(file_name, 'r') as zip:\n",
        "  zip.extractall()\n",
        "  print('done')"
      ]
    },
    {
      "cell_type": "markdown",
      "metadata": {
        "id": "AiOxwi4NgJmO"
      },
      "source": [
        "# Step 2. Exploratory data analysis"
      ]
    },
    {
      "cell_type": "code",
      "execution_count": 3,
      "metadata": {
        "colab": {
          "base_uri": "https://localhost:8080/"
        },
        "id": "Ao2ocIl2YKh8",
        "outputId": "b06e04df-788c-469f-c7e5-f6d18c58247d"
      },
      "outputs": [
        {
          "name": "stdout",
          "output_type": "stream",
          "text": [
            "['rainy', 'foggy', 'alien_test', 'cloudy', 'test.csv', 'shine', 'sunrise']\n"
          ]
        }
      ],
      "source": [
        "# we need to arrange the data so our keras module will know where to look for the data\n",
        "import warnings\n",
        "warnings.filterwarnings('ignore')\n",
        "\n",
        "# Get all the paths\n",
        "data_dir_list = os.listdir('/content/dataset')\n",
        "print(data_dir_list)\n",
        "path, dirs, files = next(os.walk(\"/content/dataset\"))\n",
        "file_count = len(files)\n",
        "\n",
        "# print(file_count)"
      ]
    },
    {
      "cell_type": "code",
      "execution_count": 4,
      "metadata": {
        "id": "6rEEt7ldYyef"
      },
      "outputs": [],
      "source": [
        "# Make new base directory\n",
        "original_dataset_dir = '/content/dataset'\n",
        "base_dir = '/content/weather-data/'\n",
        "os.mkdir(base_dir)\n",
        "\n",
        "#weather folder is empty because we just created it"
      ]
    },
    {
      "cell_type": "code",
      "execution_count": 5,
      "metadata": {
        "id": "FPsv734eZtd-"
      },
      "outputs": [],
      "source": [
        "#we first create a train and validation folder and under each folder we create five folders representing each of the type of weather\n",
        "\n",
        "#create two folders (train and validation)\n",
        "train_dir = os.path.join(base_dir, 'train')\n",
        "os.mkdir(train_dir)\n",
        "\n",
        "validation_dir = os.path.join(base_dir, 'validation')\n",
        "os.mkdir(validation_dir)\n",
        "\n",
        "#Under train folder create five folders \n",
        "# (cloud, folly, rainy, shine, sunrise)\n",
        "\n",
        "train_cloud_dir = os.path.join(train_dir, 'cloudy')\n",
        "os.mkdir(train_cloud_dir)\n",
        "\n",
        "train_foggy_dir = os.path.join(train_dir, 'foggy')\n",
        "os.mkdir(train_foggy_dir)\n",
        "\n",
        "train_rainy_dir = os.path.join(train_dir, 'rainy')\n",
        "os.mkdir(train_rainy_dir)\n",
        "\n",
        "train_shine_dir = os.path.join(train_dir, 'shine')\n",
        "os.mkdir(train_shine_dir)\n",
        "\n",
        "train_sunrise_dir = os.path.join(train_dir, 'sunrise')\n",
        "os.mkdir(train_sunrise_dir)\n",
        "\n",
        "#Under validation folder create five folders \n",
        "# (cloud, folly, rainy, shine, sunrise)\n",
        "\n",
        "validation_cloud_dir = os.path.join(validation_dir, 'cloudy')\n",
        "os.mkdir(validation_cloud_dir)\n",
        "\n",
        "validation_foggy_dir = os.path.join(validation_dir, 'foggy')\n",
        "os.mkdir(validation_foggy_dir)\n",
        "\n",
        "validation_rainy_dir = os.path.join(validation_dir, 'rainy')\n",
        "os.mkdir(validation_rainy_dir)\n",
        "\n",
        "validation_shine_dir = os.path.join(validation_dir, 'shine')\n",
        "os.mkdir(validation_shine_dir)\n",
        "\n",
        "validation_sunrise_dir = os.path.join(validation_dir, 'sunrise')\n",
        "os.mkdir(validation_sunrise_dir)"
      ]
    },
    {
      "cell_type": "code",
      "execution_count": 6,
      "metadata": {
        "id": "mAWxQSLgbQ7h"
      },
      "outputs": [],
      "source": [
        "#this function helps us to split the data into the different folders created\n",
        "# NB: you would have to run this function 5 times for the different types of weather\n",
        "\n",
        "\n",
        "def split_data(SOURCE, TRAINING, VALIDATION, SPLIT_SIZE):\n",
        "    files = []\n",
        "    for filename in os.listdir(SOURCE):\n",
        "        file = SOURCE + filename\n",
        "        if os.path.getsize(file) > 0:\n",
        "            files.append(filename)\n",
        "        else:\n",
        "            print(filename + \" is zero length, so ignoring.\")\n",
        "\n",
        "    training_length = int(len(files) * SPLIT_SIZE)\n",
        "    valid_length = int(len(files) - training_length)\n",
        "    shuffled_set = random.sample(files, len(files))\n",
        "    training_set = shuffled_set[0:training_length]\n",
        "    valid_set = shuffled_set[training_length:]\n",
        "\n",
        "    for filename in training_set:\n",
        "        this_file = SOURCE + filename\n",
        "        destination = TRAINING + filename\n",
        "        copyfile(this_file, destination)\n",
        "\n",
        "    for filename in valid_set:\n",
        "        this_file = SOURCE + filename\n",
        "        destination = VALIDATION + filename\n",
        "        copyfile(this_file, destination)\n"
      ]
    },
    {
      "cell_type": "code",
      "execution_count": 7,
      "metadata": {
        "id": "P763_nczcYUg"
      },
      "outputs": [],
      "source": [
        "# a list of the directories that you are defining\n",
        "\n",
        "\n",
        "CLOUDY_SOURCE_DIR = '/content/dataset/cloudy/'\n",
        "TRAINING_CLOUDY_DIR = '/content/weather-data/train/cloudy/'\n",
        "VALID_CLOUDY_DIR = '/content/weather-data/validation/cloudy/'\n",
        "\n",
        "FOGGY_SOURCE_DIR = '/content/dataset/foggy/'\n",
        "TRAINING_FOGGY_DIR = '/content/weather-data/train/foggy/'\n",
        "VALID_FOGGY_DIR = '/content/weather-data/validation/foggy/'\n",
        "\n",
        "RAINY_SOURCE_DIR = '/content/dataset/rainy/'\n",
        "TRAINING_RAINY_DIR = '/content/weather-data/train/rainy/'\n",
        "VALID_RAINY_DIR = '/content/weather-data/validation/rainy/'\n",
        "\n",
        "SHINE_SOURCE_DIR = '/content/dataset/shine/'\n",
        "TRAINING_SHINE_DIR = '/content/weather-data/train/shine/'\n",
        "VALID_SHINE_DIR = '/content/weather-data/validation/shine/'\n",
        "\n",
        "SUNRISE_SOURCE_DIR = '/content/dataset/sunrise/'\n",
        "TRAINING_SUNRISE_DIR = '/content/weather-data/train/sunrise/'\n",
        "VALID_SUNRISE_DIR = '/content/weather-data/validation/sunrise/'"
      ]
    },
    {
      "cell_type": "code",
      "execution_count": 8,
      "metadata": {
        "id": "1eabwmVqcZZC"
      },
      "outputs": [],
      "source": [
        "# now the folders will be populated and made available in the folders we created\n",
        "\n",
        "\n",
        "import os\n",
        "import random\n",
        "from shutil import copyfile\n",
        "\n",
        "split_size = .85 # this means 85% of the data will come under the train folder and the remaining 15% will go to the validation folder\n",
        "\n",
        "split_data(CLOUDY_SOURCE_DIR, TRAINING_CLOUDY_DIR, VALID_CLOUDY_DIR, split_size)\n",
        "split_data(FOGGY_SOURCE_DIR, TRAINING_FOGGY_DIR, VALID_FOGGY_DIR, split_size)\n",
        "split_data(RAINY_SOURCE_DIR, TRAINING_RAINY_DIR, VALID_RAINY_DIR, split_size)\n",
        "split_data(SHINE_SOURCE_DIR, TRAINING_SHINE_DIR, VALID_SHINE_DIR, split_size)\n",
        "split_data(SUNRISE_SOURCE_DIR, TRAINING_SUNRISE_DIR, VALID_SUNRISE_DIR, split_size)"
      ]
    },
    {
      "cell_type": "code",
      "execution_count": 9,
      "metadata": {
        "colab": {
          "base_uri": "https://localhost:8080/",
          "height": 390
        },
        "id": "favalETxddcW",
        "outputId": "852432a0-1e70-490c-a6b9-d48efd762cde"
      },
      "outputs": [
        {
          "data": {
            "image/png": "[encoded data removed]",
            "text/plain": [
              "<Figure size 648x432 with 1 Axes>"
            ]
          },
          "metadata": {
            "needs_background": "light"
          },
          "output_type": "display_data"
        }
      ],
      "source": [
        "# to see how the differnt types of weather balance in our test dataset, we plot a bar plot\n",
        "\n",
        "import matplotlib.pyplot as plt\n",
        "import seaborn as sns\n",
        "from matplotlib.image import imread\n",
        "import pathlib\n",
        "\n",
        "image_folder = ['cloudy', 'foggy', 'rainy', 'shine', 'sunrise']\n",
        "nimgs = {}\n",
        "for i in image_folder:\n",
        "    nimages = len(os.listdir('/content/weather-data/train/'+i+'/'))\n",
        "    nimgs[i]=nimages\n",
        "plt.figure(figsize=(9, 6))\n",
        "plt.bar(range(len(nimgs)), list(nimgs.values()), align='center')\n",
        "plt.xticks(range(len(nimgs)), list(nimgs.keys()))\n",
        "plt.title('Distribution of different classes in Training Dataset')\n",
        "plt.show()"
      ]
    },
    {
      "cell_type": "code",
      "execution_count": 10,
      "metadata": {
        "colab": {
          "base_uri": "https://localhost:8080/"
        },
        "id": "GJj-F3Uze2w8",
        "outputId": "9da60938-b364-45d2-c578-ecf2cb9d8c9b"
      },
      "outputs": [
        {
          "name": "stdout",
          "output_type": "stream",
          "text": [
            "Training cloudy images are: 255\n",
            "Training foggy images are: 255\n",
            "Training rainy images are: 255\n",
            "Training shine images are: 212\n",
            "Training sunrise images are: 297\n"
          ]
        }
      ],
      "source": [
        "# the cart gives a rough estimation of the length of the different datasets in our test data. This checks the exact length in each type of weather\n",
        "\n",
        "for i in ['cloudy', 'foggy', 'rainy', 'shine', 'sunrise']:\n",
        "    print('Training {} images are: '.format(i)+str(len(os.listdir('/content/weather-data/train/'+i+'/'))))"
      ]
    },
    {
      "cell_type": "code",
      "execution_count": 11,
      "metadata": {
        "colab": {
          "base_uri": "https://localhost:8080/",
          "height": 390
        },
        "id": "JgHP2F39fRpT",
        "outputId": "4c5d977c-d71f-4bd2-c402-f8b3a6c8ba78"
      },
      "outputs": [
        {
          "data": {
            "image/png": "[encoded data removed]",
            "text/plain": [
              "<Figure size 648x432 with 1 Axes>"
            ]
          },
          "metadata": {
            "needs_background": "light"
          },
          "output_type": "display_data"
        }
      ],
      "source": [
        "#this is for our validation data set. Also checking the length of data we have for the different types of weather\n",
        "\n",
        "image_folder = ['cloudy', 'foggy', 'rainy', 'shine', 'sunrise']\n",
        "nimgs = {}\n",
        "for i in image_folder:\n",
        "    nimages = len(os.listdir('/content/weather-data/validation/'+i+'/'))\n",
        "    nimgs[i]=nimages\n",
        "plt.figure(figsize=(9, 6))\n",
        "plt.bar(range(len(nimgs)), list(nimgs.values()), align='center')\n",
        "plt.xticks(range(len(nimgs)), list(nimgs.keys()))\n",
        "plt.title('Distribution of different classes in Validation Dataset')\n",
        "plt.show()"
      ]
    },
    {
      "cell_type": "code",
      "execution_count": 12,
      "metadata": {
        "colab": {
          "base_uri": "https://localhost:8080/"
        },
        "id": "mzNXb-70fr-B",
        "outputId": "2d9eff01-a65e-4258-e79e-fbcb58d430b4"
      },
      "outputs": [
        {
          "name": "stdout",
          "output_type": "stream",
          "text": [
            "Valid cloudy images are: 45\n",
            "Valid foggy images are: 45\n",
            "Valid rainy images are: 45\n",
            "Valid shine images are: 38\n",
            "Valid sunrise images are: 53\n"
          ]
        }
      ],
      "source": [
        "# the cart gives a rough estimation of the length of the different datasets in our validation data. This checks the exact length in each type of weather\n",
        "\n",
        "for i in ['cloudy', 'foggy', 'rainy', 'shine', 'sunrise']:\n",
        "    print('Valid {} images are: '.format(i)+str(len(os.listdir('/content/weather-data/validation/'+i+'/'))))"
      ]
    },
    {
      "cell_type": "markdown",
      "metadata": {
        "id": "AiOxwi4NgJmO"
      },
      "source": [
        "# Step 3. Deep Learning and Data Augmentation"
      ]
    },
    {
      "cell_type": "code",
      "execution_count": 13,
      "metadata": {
        "id": "yvCUqBPjgbxQ"
      },
      "outputs": [],
      "source": [
        "# our various library import for deep learning and data augmentation\n",
        "\n",
        "from tensorflow.keras.optimizers import Adam #for optimization\n",
        "from tensorflow.keras.preprocessing.image import ImageDataGenerator #beacause we are going to use data augmentation\n",
        "from tensorflow.keras.layers import Conv2D, MaxPooling2D, Flatten, Dense, Dropout\n",
        "from tensorflow.keras.models import Sequential\n",
        "from tensorflow.keras.callbacks import EarlyStopping, ModelCheckpoint"
      ]
    },
    {
      "cell_type": "code",
      "execution_count": 14,
      "metadata": {
        "id": "TGi1MebFhIfC"
      },
      "outputs": [],
      "source": [
        "# to give the data an equal size, we have to set a height and width\n",
        "\n",
        "img_width=256; img_height=256\n",
        "batch_size=16"
      ]
    },
    {
      "cell_type": "code",
      "execution_count": 15,
      "metadata": {
        "colab": {
          "base_uri": "https://localhost:8080/"
        },
        "id": "_Jjw2W9lhnum",
        "outputId": "c6890ce3-d47a-4100-da23-586436e3ae1d"
      },
      "outputs": [
        {
          "name": "stdout",
          "output_type": "stream",
          "text": [
            "Found 1274 images belonging to 5 classes.\n"
          ]
        }
      ],
      "source": [
        "# the reason we are doing data augmentation is that, because we have less data, we want to augment the data to create more\n",
        "TRAINING_DIR = '/content/weather-data/train/'\n",
        "\n",
        "train_datagen = ImageDataGenerator(rescale = 1/255.0, # rescaling the data\n",
        "                                   rotation_range=30, #creating a rotation. So we take each image it in a 30 degrees\n",
        "                                   zoom_range=0.4,\n",
        "                                   horizontal_flip=True) # meaning image will be rotated to the 90 degree\n",
        "\n",
        "train_generator = train_datagen.flow_from_directory(TRAINING_DIR,\n",
        "                                                    batch_size=batch_size,\n",
        "                                                    class_mode='categorical',\n",
        "                                                    target_size=(img_height, img_width))\n",
        "\n",
        "#results mean that when you sum up the all the items in the graph you will get the results"
      ]
    },
    {
      "cell_type": "code",
      "execution_count": 16,
      "metadata": {
        "colab": {
          "base_uri": "https://localhost:8080/"
        },
        "id": "KJ4_o1l3txjc",
        "outputId": "814d4047-b0e5-4763-9b7c-98c70176b3f9"
      },
      "outputs": [
        {
          "name": "stdout",
          "output_type": "stream",
          "text": [
            "Found 226 images belonging to 5 classes.\n"
          ]
        }
      ],
      "source": [
        "# repeating the same for the validation dataset, this is to validate to see how the model is doing\n",
        "VALIDATION_DIR = '/content/weather-data/validation/'\n",
        "\n",
        "validation_datagen = ImageDataGenerator(rescale = 1/255.0)\n",
        "\n",
        "validation_generator = validation_datagen.flow_from_directory(VALIDATION_DIR,\n",
        "                                                              batch_size=batch_size,\n",
        "                                                              class_mode='categorical',\n",
        "                                                              target_size=(img_height, img_width)\n",
        "                                                             )\n"
      ]
    },
    {
      "cell_type": "code",
      "execution_count": 17,
      "metadata": {
        "id": "8MgsMYoNvgni"
      },
      "outputs": [],
      "source": [
        "callbacks = EarlyStopping(monitor='val_loss', patience=5, verbose=1, mode='auto')\n",
        "# autosave best Model\n",
        "best_model_file = '/content/CNN_aug_best_weights.h5'\n",
        "best_model = ModelCheckpoint(best_model_file, monitor='val_acc', verbose = 1, save_best_only = True)"
      ]
    },
    {
      "cell_type": "code",
      "execution_count": 18,
      "metadata": {
        "colab": {
          "base_uri": "https://localhost:8080/"
        },
        "id": "sYZBLD8RvofD",
        "outputId": "6d079f6f-343b-44b3-b026-d5adb4f4aa9c"
      },
      "outputs": [
        {
          "name": "stdout",
          "output_type": "stream",
          "text": [
            "Model: \"sequential\"\n",
            "_________________________________________________________________\n",
            " Layer (type)                Output Shape              Param #   \n",
            "=================================================================\n",
            " conv2d (Conv2D)             (None, 254, 254, 16)      448       \n",
            "                                                                 \n",
            " max_pooling2d (MaxPooling2D  (None, 127, 127, 16)     0         \n",
            " )                                                               \n",
            "                                                                 \n",
            " conv2d_1 (Conv2D)           (None, 125, 125, 32)      4640      \n",
            "                                                                 \n",
            " max_pooling2d_1 (MaxPooling  (None, 62, 62, 32)       0         \n",
            " 2D)                                                             \n",
            "                                                                 \n",
            " conv2d_2 (Conv2D)           (None, 60, 60, 64)        18496     \n",
            "                                                                 \n",
            " conv2d_3 (Conv2D)           (None, 58, 58, 64)        36928     \n",
            "                                                                 \n",
            " max_pooling2d_2 (MaxPooling  (None, 29, 29, 64)       0         \n",
            " 2D)                                                             \n",
            "                                                                 \n",
            " conv2d_4 (Conv2D)           (None, 27, 27, 128)       73856     \n",
            "                                                                 \n",
            " conv2d_5 (Conv2D)           (None, 25, 25, 128)       147584    \n",
            "                                                                 \n",
            " max_pooling2d_3 (MaxPooling  (None, 12, 12, 128)      0         \n",
            " 2D)                                                             \n",
            "                                                                 \n",
            " conv2d_6 (Conv2D)           (None, 10, 10, 256)       295168    \n",
            "                                                                 \n",
            " conv2d_7 (Conv2D)           (None, 8, 8, 256)         590080    \n",
            "                                                                 \n",
            " conv2d_8 (Conv2D)           (None, 6, 6, 256)         590080    \n",
            "                                                                 \n",
            " max_pooling2d_4 (MaxPooling  (None, 3, 3, 256)        0         \n",
            " 2D)                                                             \n",
            "                                                                 \n",
            " flatten (Flatten)           (None, 2304)              0         \n",
            "                                                                 \n",
            " dense (Dense)               (None, 512)               1180160   \n",
            "                                                                 \n",
            " dense_1 (Dense)             (None, 512)               262656    \n",
            "                                                                 \n",
            " dense_2 (Dense)             (None, 5)                 2565      \n",
            "                                                                 \n",
            "=================================================================\n",
            "Total params: 3,202,661\n",
            "Trainable params: 3,202,661\n",
            "Non-trainable params: 0\n",
            "_________________________________________________________________\n"
          ]
        }
      ],
      "source": [
        "# we created a sequential model, under the sequenntial model, we created 16 neurons\n",
        "#  Conv2D(16, (3, 3), activation='relu', input_shape=(img_height, img_width, 3)), MaxPooling2D(2, 2) - means we created a layer of 16 neurons/filter and each filter has a size of 3 by 3, after that we are applying a relu function\n",
        "# and because it is the first layer we are applying a height and width of what each image will look like\n",
        "model = Sequential([\n",
        "    Conv2D(16, (3, 3), activation='relu', input_shape=(img_height, img_width, 3)), MaxPooling2D(2, 2),\n",
        "    Conv2D(32, (3, 3), activation='relu'), MaxPooling2D(2, 2),\n",
        "    Conv2D(64, (3, 3), activation='relu'),\n",
        "    Conv2D(64, (3, 3), activation='relu'),\n",
        "    MaxPooling2D(2, 2),\n",
        "    Conv2D(128, (3, 3), activation='relu'),\n",
        "    Conv2D(128, (3, 3), activation='relu'),\n",
        "    MaxPooling2D(2, 2),\n",
        "    Conv2D(256, (3, 3), activation='relu'),\n",
        "    Conv2D(256, (3, 3), activation='relu'),\n",
        "    Conv2D(256, (3, 3), activation='relu'),\n",
        "    MaxPooling2D(2, 2),\n",
        "    Flatten(), # we flatten because after that we are creating a fully connected network\n",
        "    Dense(512, activation='relu'),\n",
        "    Dense(512, activation='relu'),\n",
        "    Dense(5, activation='softmax') # at this last layer we have 5 because of our five different output (types of weather)\n",
        "])\n",
        "model.summary()"
      ]
    },
    {
      "cell_type": "code",
      "execution_count": 19,
      "metadata": {
        "id": "1PG2jUvtMYNg"
      },
      "outputs": [],
      "source": [
        "# we are compiling the model using Adam as our optimiser\n",
        "model.compile(optimizer='Adam', \n",
        "              loss='categorical_crossentropy', \n",
        "              metrics =['accuracy'])"
      ]
    },
    {
      "cell_type": "code",
      "execution_count": 20,
      "metadata": {
        "colab": {
          "base_uri": "https://localhost:8080/"
        },
        "id": "r1k8hZsfM-x6",
        "outputId": "7dfcc1ca-c709-4f99-8fd6-c16e79f783ac"
      },
      "outputs": [
        {
          "name": "stdout",
          "output_type": "stream",
          "text": [
            "Epoch 1/30\n",
            "80/80 [==============================] - ETA: 0s - loss: 1.3422 - accuracy: 0.3752WARNING:tensorflow:Can save best model only with val_acc available, skipping.\n",
            "80/80 [==============================] - 42s 374ms/step - loss: 1.3422 - accuracy: 0.3752 - val_loss: 1.1445 - val_accuracy: 0.4027\n",
            "Epoch 2/30\n",
            "80/80 [==============================] - ETA: 0s - loss: 1.2153 - accuracy: 0.4992WARNING:tensorflow:Can save best model only with val_acc available, skipping.\n",
            "80/80 [==============================] - 26s 329ms/step - loss: 1.2153 - accuracy: 0.4992 - val_loss: 0.9466 - val_accuracy: 0.5664\n",
            "Epoch 3/30\n",
            "80/80 [==============================] - ETA: 0s - loss: 1.0484 - accuracy: 0.5455WARNING:tensorflow:Can save best model only with val_acc available, skipping.\n",
            "80/80 [==============================] - 29s 358ms/step - loss: 1.0484 - accuracy: 0.5455 - val_loss: 0.9292 - val_accuracy: 0.5796\n",
            "Epoch 4/30\n",
            "80/80 [==============================] - ETA: 0s - loss: 0.9695 - accuracy: 0.5746WARNING:tensorflow:Can save best model only with val_acc available, skipping.\n",
            "80/80 [==============================] - 26s 327ms/step - loss: 0.9695 - accuracy: 0.5746 - val_loss: 0.9313 - val_accuracy: 0.5929\n",
            "Epoch 5/30\n",
            "80/80 [==============================] - ETA: 0s - loss: 0.9147 - accuracy: 0.6209WARNING:tensorflow:Can save best model only with val_acc available, skipping.\n",
            "80/80 [==============================] - 28s 351ms/step - loss: 0.9147 - accuracy: 0.6209 - val_loss: 0.9010 - val_accuracy: 0.6150\n",
            "Epoch 6/30\n",
            "80/80 [==============================] - ETA: 0s - loss: 0.9229 - accuracy: 0.6083WARNING:tensorflow:Can save best model only with val_acc available, skipping.\n",
            "80/80 [==============================] - 26s 329ms/step - loss: 0.9229 - accuracy: 0.6083 - val_loss: 0.8626 - val_accuracy: 0.6416\n",
            "Epoch 7/30\n",
            "80/80 [==============================] - ETA: 0s - loss: 0.9335 - accuracy: 0.5879WARNING:tensorflow:Can save best model only with val_acc available, skipping.\n",
            "80/80 [==============================] - 29s 361ms/step - loss: 0.9335 - accuracy: 0.5879 - val_loss: 0.8383 - val_accuracy: 0.6150\n",
            "Epoch 8/30\n",
            "80/80 [==============================] - ETA: 0s - loss: 0.8803 - accuracy: 0.6154WARNING:tensorflow:Can save best model only with val_acc available, skipping.\n",
            "80/80 [==============================] - 27s 331ms/step - loss: 0.8803 - accuracy: 0.6154 - val_loss: 1.0213 - val_accuracy: 0.6018\n",
            "Epoch 9/30\n",
            "80/80 [==============================] - ETA: 0s - loss: 0.8557 - accuracy: 0.6546WARNING:tensorflow:Can save best model only with val_acc available, skipping.\n",
            "80/80 [==============================] - 28s 354ms/step - loss: 0.8557 - accuracy: 0.6546 - val_loss: 1.0687 - val_accuracy: 0.5619\n",
            "Epoch 10/30\n",
            "80/80 [==============================] - ETA: 0s - loss: 0.9055 - accuracy: 0.5769WARNING:tensorflow:Can save best model only with val_acc available, skipping.\n",
            "80/80 [==============================] - 26s 330ms/step - loss: 0.9055 - accuracy: 0.5769 - val_loss: 0.8878 - val_accuracy: 0.6018\n",
            "Epoch 11/30\n",
            "80/80 [==============================] - ETA: 0s - loss: 0.8845 - accuracy: 0.6028WARNING:tensorflow:Can save best model only with val_acc available, skipping.\n",
            "80/80 [==============================] - 28s 348ms/step - loss: 0.8845 - accuracy: 0.6028 - val_loss: 0.8347 - val_accuracy: 0.6372\n",
            "Epoch 12/30\n",
            "80/80 [==============================] - ETA: 0s - loss: 0.8762 - accuracy: 0.6327WARNING:tensorflow:Can save best model only with val_acc available, skipping.\n",
            "80/80 [==============================] - 27s 338ms/step - loss: 0.8762 - accuracy: 0.6327 - val_loss: 0.9188 - val_accuracy: 0.6416\n",
            "Epoch 13/30\n",
            "80/80 [==============================] - ETA: 0s - loss: 0.8762 - accuracy: 0.6334WARNING:tensorflow:Can save best model only with val_acc available, skipping.\n",
            "80/80 [==============================] - 27s 335ms/step - loss: 0.8762 - accuracy: 0.6334 - val_loss: 0.9406 - val_accuracy: 0.6549\n",
            "Epoch 14/30\n",
            "80/80 [==============================] - ETA: 0s - loss: 0.8544 - accuracy: 0.6374WARNING:tensorflow:Can save best model only with val_acc available, skipping.\n",
            "80/80 [==============================] - 27s 341ms/step - loss: 0.8544 - accuracy: 0.6374 - val_loss: 0.8262 - val_accuracy: 0.6549\n",
            "Epoch 15/30\n",
            "80/80 [==============================] - ETA: 0s - loss: 0.7923 - accuracy: 0.6664WARNING:tensorflow:Can save best model only with val_acc available, skipping.\n",
            "80/80 [==============================] - 27s 334ms/step - loss: 0.7923 - accuracy: 0.6664 - val_loss: 0.8179 - val_accuracy: 0.6327\n",
            "Epoch 16/30\n",
            "80/80 [==============================] - ETA: 0s - loss: 0.8422 - accuracy: 0.6515WARNING:tensorflow:Can save best model only with val_acc available, skipping.\n",
            "80/80 [==============================] - 28s 350ms/step - loss: 0.8422 - accuracy: 0.6515 - val_loss: 0.8369 - val_accuracy: 0.6372\n",
            "Epoch 17/30\n",
            "80/80 [==============================] - ETA: 0s - loss: 0.7987 - accuracy: 0.6515WARNING:tensorflow:Can save best model only with val_acc available, skipping.\n",
            "80/80 [==============================] - 26s 329ms/step - loss: 0.7987 - accuracy: 0.6515 - val_loss: 0.8034 - val_accuracy: 0.6327\n",
            "Epoch 18/30\n",
            "80/80 [==============================] - ETA: 0s - loss: 0.8034 - accuracy: 0.6531WARNING:tensorflow:Can save best model only with val_acc available, skipping.\n",
            "80/80 [==============================] - 29s 360ms/step - loss: 0.8034 - accuracy: 0.6531 - val_loss: 0.7626 - val_accuracy: 0.6549\n",
            "Epoch 19/30\n",
            "80/80 [==============================] - ETA: 0s - loss: 0.7999 - accuracy: 0.6523WARNING:tensorflow:Can save best model only with val_acc available, skipping.\n",
            "80/80 [==============================] - 26s 326ms/step - loss: 0.7999 - accuracy: 0.6523 - val_loss: 0.8402 - val_accuracy: 0.6460\n",
            "Epoch 20/30\n",
            "80/80 [==============================] - ETA: 0s - loss: 0.7758 - accuracy: 0.6656WARNING:tensorflow:Can save best model only with val_acc available, skipping.\n",
            "80/80 [==============================] - 28s 354ms/step - loss: 0.7758 - accuracy: 0.6656 - val_loss: 0.7579 - val_accuracy: 0.6372\n",
            "Epoch 21/30\n",
            "80/80 [==============================] - ETA: 0s - loss: 0.7888 - accuracy: 0.6586WARNING:tensorflow:Can save best model only with val_acc available, skipping.\n",
            "80/80 [==============================] - 26s 331ms/step - loss: 0.7888 - accuracy: 0.6586 - val_loss: 0.8318 - val_accuracy: 0.6681\n",
            "Epoch 22/30\n",
            "80/80 [==============================] - ETA: 0s - loss: 0.7696 - accuracy: 0.6586WARNING:tensorflow:Can save best model only with val_acc available, skipping.\n",
            "80/80 [==============================] - 28s 348ms/step - loss: 0.7696 - accuracy: 0.6586 - val_loss: 0.7426 - val_accuracy: 0.6770\n",
            "Epoch 23/30\n",
            "80/80 [==============================] - ETA: 0s - loss: 0.7784 - accuracy: 0.6711WARNING:tensorflow:Can save best model only with val_acc available, skipping.\n",
            "80/80 [==============================] - 27s 336ms/step - loss: 0.7784 - accuracy: 0.6711 - val_loss: 0.8132 - val_accuracy: 0.6372\n",
            "Epoch 24/30\n",
            "80/80 [==============================] - ETA: 0s - loss: 0.7959 - accuracy: 0.6625WARNING:tensorflow:Can save best model only with val_acc available, skipping.\n",
            "80/80 [==============================] - 27s 340ms/step - loss: 0.7959 - accuracy: 0.6625 - val_loss: 0.8355 - val_accuracy: 0.6416\n",
            "Epoch 25/30\n",
            "80/80 [==============================] - ETA: 0s - loss: 0.7976 - accuracy: 0.6499WARNING:tensorflow:Can save best model only with val_acc available, skipping.\n",
            "80/80 [==============================] - 28s 344ms/step - loss: 0.7976 - accuracy: 0.6499 - val_loss: 0.8211 - val_accuracy: 0.6681\n",
            "Epoch 26/30\n",
            "80/80 [==============================] - ETA: 0s - loss: 0.7484 - accuracy: 0.6703WARNING:tensorflow:Can save best model only with val_acc available, skipping.\n",
            "80/80 [==============================] - 27s 335ms/step - loss: 0.7484 - accuracy: 0.6703 - val_loss: 0.7955 - val_accuracy: 0.6416\n",
            "Epoch 27/30\n",
            "80/80 [==============================] - ETA: 0s - loss: 0.7384 - accuracy: 0.6617WARNING:tensorflow:Can save best model only with val_acc available, skipping.\n",
            "80/80 [==============================] - 28s 350ms/step - loss: 0.7384 - accuracy: 0.6617 - val_loss: 0.7344 - val_accuracy: 0.6681\n",
            "Epoch 28/30\n",
            "80/80 [==============================] - ETA: 0s - loss: 0.7198 - accuracy: 0.6805WARNING:tensorflow:Can save best model only with val_acc available, skipping.\n",
            "80/80 [==============================] - 26s 328ms/step - loss: 0.7198 - accuracy: 0.6805 - val_loss: 0.7079 - val_accuracy: 0.6681\n",
            "Epoch 29/30\n",
            "80/80 [==============================] - ETA: 0s - loss: 0.7722 - accuracy: 0.6766WARNING:tensorflow:Can save best model only with val_acc available, skipping.\n",
            "80/80 [==============================] - 28s 356ms/step - loss: 0.7722 - accuracy: 0.6766 - val_loss: 0.7677 - val_accuracy: 0.6770\n",
            "Epoch 30/30\n",
            "80/80 [==============================] - ETA: 0s - loss: 0.7403 - accuracy: 0.6829WARNING:tensorflow:Can save best model only with val_acc available, skipping.\n",
            "80/80 [==============================] - 26s 326ms/step - loss: 0.7403 - accuracy: 0.6829 - val_loss: 0.7429 - val_accuracy: 0.6858\n"
          ]
        }
      ],
      "source": [
        "# we start training the model, we are training the model with train_generator which contains the data from data augmentation and we're going to validate it on the validation dataset\n",
        "history = model.fit_generator(train_generator,\n",
        "                              epochs=30,\n",
        "                              verbose=1,\n",
        "                              validation_data=validation_generator,\n",
        "                              callbacks = [best_model]\n",
        "                              )"
      ]
    },
    {
      "cell_type": "code",
      "execution_count": 21,
      "metadata": {
        "colab": {
          "base_uri": "https://localhost:8080/",
          "height": 458
        },
        "id": "0Gbp0WeJRee5",
        "outputId": "7dd6e038-4c86-4d34-bf4c-0da00747e811"
      },
      "outputs": [
        {
          "data": {
            "image/png": "[encoded data removed]",
            "text/plain": [
              "<Figure size 1008x504 with 1 Axes>"
            ]
          },
          "metadata": {
            "needs_background": "light"
          },
          "output_type": "display_data"
        }
      ],
      "source": [
        "# lets plot to see how the trained model is performing\n",
        "acc=history.history['accuracy']\n",
        "val_acc=history.history['val_accuracy']\n",
        "loss=history.history['loss']\n",
        "val_loss=history.history['val_loss']\n",
        "\n",
        "epochs=range(len(acc))\n",
        "\n",
        "fig = plt.figure(figsize=(14,7))\n",
        "plt.plot(epochs, acc, 'r', label=\"Training Accuracy\")\n",
        "plt.plot(epochs, val_acc, 'b', label=\"Validation Accuracy\")\n",
        "plt.xlabel('Epoch')\n",
        "plt.ylabel('Accuracy')\n",
        "plt.title('Training and validation accuracy')\n",
        "plt.legend(loc='lower right')\n",
        "plt.show()"
      ]
    },
    {
      "cell_type": "code",
      "execution_count": 22,
      "metadata": {
        "colab": {
          "base_uri": "https://localhost:8080/",
          "height": 476
        },
        "id": "Y4UQEJ0NR26w",
        "outputId": "0fb7e49f-cecf-4118-dc1c-59a66aed4318"
      },
      "outputs": [
        {
          "data": {
            "text/plain": [
              "Text(0.5, 1.0, 'Training and validation loss')"
            ]
          },
          "execution_count": 22,
          "metadata": {},
          "output_type": "execute_result"
        },
        {
          "data": {
            "image/png": "[encoded data removed]",
            "text/plain": [
              "<Figure size 1008x504 with 1 Axes>"
            ]
          },
          "metadata": {
            "needs_background": "light"
          },
          "output_type": "display_data"
        }
      ],
      "source": [
        "# plotting the loss too we realise that both are going down and down\n",
        "fig2 = plt.figure(figsize=(14,7))\n",
        "plt.plot(epochs, loss, 'r', label=\"Training Loss\")\n",
        "plt.plot(epochs, val_loss, 'b', label=\"Validation Loss\")\n",
        "plt.legend(loc='upper right')\n",
        "plt.xlabel('Epoch')\n",
        "plt.ylabel('Loss')\n",
        "plt.title('Training and validation loss')"
      ]
    },
    {
      "cell_type": "code",
      "execution_count": 25,
      "metadata": {
        "id": "1Y7cvQUWSOE8"
      },
      "outputs": [],
      "source": [
        "# now we have trained the model and achieved about 70% of the accuracy, we are now going to validate the performance of our alien_test so we are going to pass into our model\n",
        "\n",
        "## Test Performance on Test Data\n",
        "import pandas as pd\n",
        "import numpy as np\n",
        "from keras.preprocessing.image import load_img, img_to_array\n",
        "\n",
        "# we have to load the image into an array form\n",
        "def preprocess_image(path):\n",
        "    img = load_img(path, target_size = (img_height, img_width))\n",
        "    a = img_to_array(img)\n",
        "    a = np.expand_dims(a, axis = 0)\n",
        "    a /= 255.\n",
        "    return a"
      ]
    },
    {
      "cell_type": "markdown",
      "metadata": {
        "id": "GroVw6t4SVKD"
      },
      "source": [
        "# Step 4. Checking performance on Test Data (Out of the sample)\n"
      ]
    },
    {
      "cell_type": "code",
      "execution_count": 26,
      "metadata": {
        "id": "qu_KowBuSf9y"
      },
      "outputs": [],
      "source": [
        "# Read Test Images Dir and their labels\n",
        "test_images_dir = '/content/dataset/alien_test/'\n",
        "test_df = pd.read_csv('/content/dataset/test.csv')\n",
        "\n",
        "# put them in a list\n",
        "test_dfToList = test_df['Image_id'].tolist()\n",
        "test_ids = [str(item) for item in test_dfToList]\n",
        "\n",
        "test_images = [test_images_dir+item for item in test_ids]\n",
        "test_preprocessed_images = np.vstack([preprocess_image(fn) for fn in test_images])\n",
        "np.save('/content/test_preproc_CNN.npy', test_preprocessed_images)"
      ]
    },
    {
      "cell_type": "code",
      "execution_count": 28,
      "metadata": {
        "colab": {
          "base_uri": "https://localhost:8080/"
        },
        "id": "ot91ZoY2T0jB",
        "outputId": "112b9fae-cb04-4c68-93f5-d34566f223f8"
      },
      "outputs": [
        {
          "name": "stdout",
          "output_type": "stream",
          "text": [
            "30/30 [==============================] - 0s 3ms/step\n",
            "[1 1 3 3 1 0 2 0 0 0 4 3 2 0 2 2 2 2 2 2 3 3 3 4 4 4 4 4 4 4]\n"
          ]
        }
      ],
      "source": [
        "# we are using model.predict to predict the images\n",
        "\n",
        "array = model.predict(test_preprocessed_images, batch_size=1, verbose=1)\n",
        "answer = np.argmax(array, axis=1)\n",
        "print(answer)"
      ]
    },
    {
      "cell_type": "code",
      "execution_count": 30,
      "metadata": {
        "colab": {
          "base_uri": "https://localhost:8080/"
        },
        "id": "inqD37mMUQDp",
        "outputId": "cb6a98e5-4d92-4aec-8452-f4d85c5390c2"
      },
      "outputs": [
        {
          "name": "stdout",
          "output_type": "stream",
          "text": [
            "0     0\n",
            "1     0\n",
            "2     0\n",
            "3     0\n",
            "4     1\n",
            "5     1\n",
            "6     1\n",
            "7     1\n",
            "8     1\n",
            "9     1\n",
            "10    1\n",
            "11    1\n",
            "12    1\n",
            "13    1\n",
            "14    2\n",
            "15    2\n",
            "16    2\n",
            "17    2\n",
            "18    2\n",
            "19    2\n",
            "20    3\n",
            "21    3\n",
            "22    3\n",
            "23    4\n",
            "24    4\n",
            "25    4\n",
            "26    4\n",
            "27    4\n",
            "28    4\n",
            "29    4\n",
            "Name: labels, dtype: int64\n"
          ]
        }
      ],
      "source": [
        "# we are extracting our labels here\n",
        "test_df = pd.read_csv('/content/dataset/test.csv')\n",
        "y_true = test_df['labels']\n",
        "y_pred = array\n",
        "print(y_true)"
      ]
    },
    {
      "cell_type": "code",
      "execution_count": 33,
      "metadata": {
        "id": "5JarUxyAUrYu"
      },
      "outputs": [],
      "source": [
        "# we can see our loss\n",
        "from sklearn.metrics import log_loss\n",
        "loss = log_loss(y_true, y_pred, eps=1e-15, normalize=True, sample_weight=None, labels=None)\n",
        "# hover on variable to see the loss percentage"
      ]
    },
    {
      "cell_type": "code",
      "execution_count": 34,
      "metadata": {
        "colab": {
          "base_uri": "https://localhost:8080/"
        },
        "id": "xOJ8pEn_VG5d",
        "outputId": "cdc8f0b8-833f-4a8b-c87c-3717ff71fd88"
      },
      "outputs": [
        {
          "data": {
            "text/plain": [
              "array([[0, 2, 0, 2, 0],\n",
              "       [5, 1, 2, 1, 1],\n",
              "       [0, 0, 6, 0, 0],\n",
              "       [0, 0, 0, 3, 0],\n",
              "       [0, 0, 0, 0, 7]])"
            ]
          },
          "execution_count": 34,
          "metadata": {},
          "output_type": "execute_result"
        }
      ],
      "source": [
        "# If we want to plot our confusion metrix\n",
        "from sklearn.metrics import confusion_matrix\n",
        "conf_mat = confusion_matrix(y_true, answer)\n",
        "conf_mat\n",
        "\n",
        "# we read in the dialognal. Whatever is in the diagonal of the results are read the rest is misclassified"
      ]
    },
    {
      "cell_type": "code",
      "execution_count": 35,
      "metadata": {
        "id": "MwP1YlkEV3vj"
      },
      "outputs": [],
      "source": [
        "# all we are doing from hence is create a more graphical representation of our confusion metrix\n",
        "rain_dir = '/content/weather-data/train/'\n",
        "classes = os.listdir(train_dir)"
      ]
    },
    {
      "cell_type": "code",
      "execution_count": 36,
      "metadata": {
        "id": "UHQHwuwmV_jb"
      },
      "outputs": [],
      "source": [
        "import itertools\n",
        "def plot_confusion_matrix(cm, classes,\n",
        "                          normalize=False,\n",
        "                          title='Confusion matrix',\n",
        "                          cmap=plt.cm.Reds):\n",
        "    \"\"\"\n",
        "    This function prints and plots the confusion matrix.\n",
        "    Normalization can be applied by setting `normalize=True`.\n",
        "    \"\"\"\n",
        "    plt.imshow(cm, interpolation='nearest', cmap=cmap)\n",
        "    plt.title(title)\n",
        "    plt.colorbar()\n",
        "    tick_marks = np.arange(len(classes))\n",
        "    plt.xticks(tick_marks, classes, rotation=45)\n",
        "    plt.yticks(tick_marks, classes)\n",
        "\n",
        "    if normalize:\n",
        "        cm = cm.astype('float') / cm.sum(axis=1)[:, np.newaxis]\n",
        "        cm = cm.round(2)\n",
        "        #print(\"Normalized confusion matrix\")\n",
        "    else:\n",
        "        cm=cm\n",
        "        #print('Confusion matrix, without normalization')\n",
        "\n",
        "    #print(cm)\n",
        "\n",
        "    thresh = cm.max() / 2.\n",
        "    for i, j in itertools.product(range(cm.shape[0]), range(cm.shape[1])):\n",
        "        plt.text(j, i, cm[i, j],\n",
        "                 horizontalalignment=\"center\",\n",
        "                 color=\"white\" if cm[i, j] > thresh else \"black\")\n",
        "\n",
        "    plt.tight_layout()\n",
        "    plt.ylabel('True label')\n",
        "    plt.xlabel('Predicted label')"
      ]
    },
    {
      "cell_type": "code",
      "execution_count": 37,
      "metadata": {
        "colab": {
          "base_uri": "https://localhost:8080/",
          "height": 452
        },
        "id": "CyuHveWQWCaT",
        "outputId": "aebc1eee-4d77-4d12-fd8a-8d452e4f66c2"
      },
      "outputs": [
        {
          "data": {
            "image/png": "[encoded data removed]",
            "text/plain": [
              "<Figure size 504x432 with 2 Axes>"
            ]
          },
          "metadata": {
            "needs_background": "light"
          },
          "output_type": "display_data"
        }
      ],
      "source": [
        "np.set_printoptions(precision=2)\n",
        "\n",
        "fig1 = plt.figure(figsize=(7,6))\n",
        "plot_confusion_matrix(conf_mat, classes=classes, title='Confusion matrix, without normalization')\n",
        "plt.show()"
      ]
    }
  ],
  "metadata": {
    "accelerator": "GPU",
    "colab": {
      "authorship_tag": "ABX9TyNXmWlJnavjHc+pym6UbQ09",
      "include_colab_link": true,
      "name": "Multi-class image classification.ipynb",
      "provenance": []
    },
    "kernelspec": {
      "display_name": "Python 3",
      "name": "python3"
    },
    "language_info": {
      "name": "python"
    }
  },
  "nbformat": 4,
  "nbformat_minor": 0
}
