{
 "cells": [
  {
   "cell_type": "code",
   "execution_count": 24,
   "id": "1943582f",
   "metadata": {
    "scrolled": false
   },
   "outputs": [
    {
     "name": "stdout",
     "output_type": "stream",
     "text": [
      "[[1400]\n",
      " [1600]\n",
      " [1700]\n",
      " [1875]\n",
      " [1100]\n",
      " [1550]\n",
      " [2350]\n",
      " [2450]\n",
      " [1425]\n",
      " [1700]]\n"
     ]
    }
   ],
   "source": [
    "#importing Numpy, Matplotliband and sklearnlibraries\n",
    "import matplotlib.pyplot as plt\n",
    "import numpy as np\n",
    "#importing datasets from scikit-learn\n",
    "from sklearn import datasets, linear_model\n",
    "\n",
    "#load the dataset\n",
    "house_price = [245, 312, 279, 308, 199, 219, 405, 324, 319, 255]\n",
    "land_size = [1400, 1600, 1700, 1875, 1100, 1550, 2350, 2450, 1425, 1700]\n",
    "\n",
    "#reshape input into your regression\n",
    "all_sizes = np.array(land_size).reshape((-1, 1))\n",
    "\n",
    "print(all_sizes)"
   ]
  },
  {
   "cell_type": "code",
   "execution_count": 19,
   "id": "6b57c926",
   "metadata": {},
   "outputs": [
    {
     "name": "stdout",
     "output_type": "stream",
     "text": [
      "Coefficients: \n",
      " [0.10976774]\n",
      "Intercept: \n",
      " 98.24832962138083\n"
     ]
    }
   ],
   "source": [
    "#by putting the fit module in linear regression, user can fit the data frequently and quickly\n",
    "\n",
    "#access the linear regression method\n",
    "regr = linear_model.LinearRegression()\n",
    "\n",
    "#fit the data into regression\n",
    "regr.fit(all_sizes, house_price)\n",
    "\n",
    "print('Coefficients: \\n', regr.coef_)\n",
    "print('Intercept: \\n', regr.intercept_)"
   ]
  },
  {
   "cell_type": "code",
   "execution_count": 10,
   "id": "bf57b4ec",
   "metadata": {
    "scrolled": true
   },
   "outputs": [
    {
     "name": "stdout",
     "output_type": "stream",
     "text": [
      "[251.92316258]\n",
      "[251.92316258]\n"
     ]
    }
   ],
   "source": [
    "#predict a new price based on a size\n",
    "\n",
    "size_new = 1400\n",
    "price = (size_new * regr.coef_) + regr.intercept_\n",
    "print(price)\n",
    "\n",
    "#another way to get the price\n",
    "print(regr.predict([[size_new]]))"
   ]
  },
  {
   "cell_type": "code",
   "execution_count": 25,
   "id": "f8792d06",
   "metadata": {
    "scrolled": true
   },
   "outputs": [
    {
     "data": {
      "image/png": "[encoded data removed]",
      "text/plain": [
       "<Figure size 432x288 with 1 Axes>"
      ]
     },
     "metadata": {
      "needs_background": "light"
     },
     "output_type": "display_data"
    }
   ],
   "source": [
    "#creating and ploting a graph\n",
    "\n",
    "#formula obtained from the trained data\n",
    "def graph(formula, x_range):\n",
    "    x = np.array(x_range)\n",
    "    y = eval(formula)\n",
    "    plt.plot(x, y)\n",
    "    \n",
    "#plotting the prediction line\n",
    "graph('regr.coef_*x + regr.intercept_', range(1000, 2700))\n",
    "plt.scatter(land_size, house_price, color=\"black\")\n",
    "plt.ylabel('price of house')\n",
    "plt.xlabel('size of land')\n",
    "plt.show()"
   ]
  }
 ],
 "metadata": {
  "kernelspec": {
   "display_name": "Python 3 (ipykernel)",
   "language": "python",
   "name": "python3"
  },
  "language_info": {
   "codemirror_mode": {
    "name": "ipython",
    "version": 3
   },
   "file_extension": ".py",
   "mimetype": "text/x-python",
   "name": "python",
   "nbconvert_exporter": "python",
   "pygments_lexer": "ipython3",
   "version": "3.9.7"
  }
 },
 "nbformat": 4,
 "nbformat_minor": 5
}
