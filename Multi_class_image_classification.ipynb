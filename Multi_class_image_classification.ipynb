{
  "nbformat": 4,
  "nbformat_minor": 0,
  "metadata": {
    "colab": {
      "name": "Multi-class image classification.ipynb",
      "provenance": [],
      "authorship_tag": "ABX9TyNTLkpqwnEUZJ1dwjN9Y4RC",
      "include_colab_link": true
    },
    "kernelspec": {
      "name": "python3",
      "display_name": "Python 3"
    },
    "language_info": {
      "name": "python"
    },
    "accelerator": "GPU"
  },
  "cells": [
    {
      "cell_type": "markdown",
      "metadata": {
        "id": "view-in-github",
        "colab_type": "text"
      },
      "source": [
        "<a href=\"https://colab.research.google.com/github/noramens/machine-learning-algorithms/blob/main/Multi_class_image_classification.ipynb\" target=\"_parent\"><img src=\"https://colab.research.google.com/assets/colab-badge.svg\" alt=\"Open In Colab\"/></a>"
      ]
    },
    {
      "cell_type": "code",
      "execution_count": null,
      "metadata": {
        "id": "pl1Kbk4Sikwi"
      },
      "outputs": [],
      "source": [
        "#loading data from kaggle\n",
        "import os\n",
        "os.environ['KAGGLE_USERNAME'] = \"noramens\" # username from the json file\n",
        "os.environ['KAGGLE_KEY'] = \"1ae1a6ddbe406b287f5252e594e647ec\" # key from the json file\n",
        "!kaggle datasets download -d vijaygiitk/multiclass-weather-dataset # api copied from kaggle"
      ]
    },
    {
      "cell_type": "code",
      "source": [
        "# unzipping data\n",
        "from zipfile import ZipFile\n",
        "\n",
        "file_name = \"/content/multiclass-weather-dataset.zip\" # copy the file path\n",
        "\n",
        "with ZipFile(file_name, 'r') as zip:\n",
        "  zip.extractall()\n",
        "  print('done')"
      ],
      "metadata": {
        "colab": {
          "base_uri": "https://localhost:8080/"
        },
        "id": "YdM63WxdVKkB",
        "outputId": "a1bff8a5-df65-49df-dcf2-d482e07ddf3e"
      },
      "execution_count": 2,
      "outputs": [
        {
          "output_type": "stream",
          "name": "stdout",
          "text": [
            "done\n"
          ]
        }
      ]
    },
    {
      "cell_type": "code",
      "source": [
        "# we need to arrange the data so our keras module will know where to look for the data\n",
        "import warnings\n",
        "warnings.filterwarnings('ignore')\n",
        "\n",
        "# Get all the paths\n",
        "data_dir_list = os.listdir('/content/dataset')\n",
        "print(data_dir_list)\n",
        "path, dirs, files = next(os.walk(\"/content/dataset\"))\n",
        "file_count = len(files)\n",
        "\n",
        "# print(file_count)"
      ],
      "metadata": {
        "colab": {
          "base_uri": "https://localhost:8080/"
        },
        "id": "Ao2ocIl2YKh8",
        "outputId": "f874f226-45ce-4e2c-f759-7daa90c3d1d7"
      },
      "execution_count": 3,
      "outputs": [
        {
          "output_type": "stream",
          "name": "stdout",
          "text": [
            "['rainy', 'foggy', 'alien_test', 'cloudy', 'test.csv', 'shine', 'sunrise']\n"
          ]
        }
      ]
    },
    {
      "cell_type": "code",
      "source": [
        "# Make new base directory\n",
        "original_dataset_dir = '/content/dataset'\n",
        "base_dir = '/content/weather-data/'\n",
        "os.mkdir(base_dir)\n",
        "\n",
        "#weather folder is empty because we just created it"
      ],
      "metadata": {
        "id": "6rEEt7ldYyef"
      },
      "execution_count": 4,
      "outputs": []
    },
    {
      "cell_type": "code",
      "source": [
        "#we first create a train and validation folder and under each folder we create five folders representing each of the type of weather\n",
        "\n",
        "#create two folders (train and validation)\n",
        "train_dir = os.path.join(base_dir, 'train')\n",
        "os.mkdir(train_dir)\n",
        "\n",
        "validation_dir = os.path.join(base_dir, 'validation')\n",
        "os.mkdir(validation_dir)\n",
        "\n",
        "#Under train folder create five folders \n",
        "# (cloud, folly, rainy, shine, sunrise)\n",
        "\n",
        "train_cloud_dir = os.path.join(train_dir, 'cloudy')\n",
        "os.mkdir(train_cloud_dir)\n",
        "\n",
        "train_foggy_dir = os.path.join(train_dir, 'foggy')\n",
        "os.mkdir(train_foggy_dir)\n",
        "\n",
        "train_rainy_dir = os.path.join(train_dir, 'rainy')\n",
        "os.mkdir(train_rainy_dir)\n",
        "\n",
        "train_shine_dir = os.path.join(train_dir, 'shine')\n",
        "os.mkdir(train_shine_dir)\n",
        "\n",
        "train_sunrise_dir = os.path.join(train_dir, 'sunrise')\n",
        "os.mkdir(train_sunrise_dir)\n",
        "\n",
        "#Under validation folder create five folders \n",
        "# (cloud, folly, rainy, shine, sunrise)\n",
        "\n",
        "validation_cloud_dir = os.path.join(validation_dir, 'cloudy')\n",
        "os.mkdir(validation_cloud_dir)\n",
        "\n",
        "validation_foggy_dir = os.path.join(validation_dir, 'foggy')\n",
        "os.mkdir(validation_foggy_dir)\n",
        "\n",
        "validation_rainy_dir = os.path.join(validation_dir, 'rainy')\n",
        "os.mkdir(validation_rainy_dir)\n",
        "\n",
        "validation_shine_dir = os.path.join(validation_dir, 'shine')\n",
        "os.mkdir(validation_shine_dir)\n",
        "\n",
        "validation_sunrise_dir = os.path.join(validation_dir, 'sunrise')\n",
        "os.mkdir(validation_sunrise_dir)"
      ],
      "metadata": {
        "id": "FPsv734eZtd-"
      },
      "execution_count": 5,
      "outputs": []
    },
    {
      "cell_type": "code",
      "source": [
        "#this function helps us to split the data into the different folders created\n",
        "# NB: you would have to run this function 5 times for the different types of weather\n",
        "\n",
        "\n",
        "def split_data(SOURCE, TRAINING, VALIDATION, SPLIT_SIZE):\n",
        "    files = []\n",
        "    for filename in os.listdir(SOURCE):\n",
        "        file = SOURCE + filename\n",
        "        if os.path.getsize(file) > 0:\n",
        "            files.append(filename)\n",
        "        else:\n",
        "            print(filename + \" is zero length, so ignoring.\")\n",
        "\n",
        "    training_length = int(len(files) * SPLIT_SIZE)\n",
        "    valid_length = int(len(files) - training_length)\n",
        "    shuffled_set = random.sample(files, len(files))\n",
        "    training_set = shuffled_set[0:training_length]\n",
        "    valid_set = shuffled_set[training_length:]\n",
        "\n",
        "    for filename in training_set:\n",
        "        this_file = SOURCE + filename\n",
        "        destination = TRAINING + filename\n",
        "        copyfile(this_file, destination)\n",
        "\n",
        "    for filename in valid_set:\n",
        "        this_file = SOURCE + filename\n",
        "        destination = VALIDATION + filename\n",
        "        copyfile(this_file, destination)\n"
      ],
      "metadata": {
        "id": "mAWxQSLgbQ7h"
      },
      "execution_count": 11,
      "outputs": []
    },
    {
      "cell_type": "code",
      "source": [
        "# a list of the directories that you are defining\n",
        "\n",
        "\n",
        "CLOUDY_SOURCE_DIR = '/content/dataset/cloudy/'\n",
        "TRAINING_CLOUDY_DIR = '/content/weather-data/train/cloudy/'\n",
        "VALID_CLOUDY_DIR = '/content/weather-data/validation/cloudy/'\n",
        "\n",
        "FOGGY_SOURCE_DIR = '/content/dataset/foggy/'\n",
        "TRAINING_FOGGY_DIR = '/content/weather-data/train/foggy/'\n",
        "VALID_FOGGY_DIR = '/content/weather-data/validation/foggy/'\n",
        "\n",
        "RAINY_SOURCE_DIR = '/content/dataset/rainy/'\n",
        "TRAINING_RAINY_DIR = '/content/weather-data/train/rainy/'\n",
        "VALID_RAINY_DIR = '/content/weather-data/validation/rainy/'\n",
        "\n",
        "SHINE_SOURCE_DIR = '/content/dataset/shine/'\n",
        "TRAINING_SHINE_DIR = '/content/weather-data/train/shine/'\n",
        "VALID_SHINE_DIR = '/content/weather-data/validation/shine/'\n",
        "\n",
        "SUNRISE_SOURCE_DIR = '/content/dataset/sunrise/'\n",
        "TRAINING_SUNRISE_DIR = '/content/weather-data/train/sunrise/'\n",
        "VALID_SUNRISE_DIR = '/content/weather-data/validation/sunrise/'"
      ],
      "metadata": {
        "id": "P763_nczcYUg"
      },
      "execution_count": 12,
      "outputs": []
    },
    {
      "cell_type": "code",
      "source": [
        "# now the folders will be populated and made available in the folders we created\n",
        "\n",
        "\n",
        "import os\n",
        "import random\n",
        "from shutil import copyfile\n",
        "\n",
        "split_size = .85 # this means 85% of the data will come under the train folder and the remaining 15% will go to the validation folder\n",
        "\n",
        "split_data(CLOUDY_SOURCE_DIR, TRAINING_CLOUDY_DIR, VALID_CLOUDY_DIR, split_size)\n",
        "split_data(FOGGY_SOURCE_DIR, TRAINING_FOGGY_DIR, VALID_FOGGY_DIR, split_size)\n",
        "split_data(RAINY_SOURCE_DIR, TRAINING_RAINY_DIR, VALID_RAINY_DIR, split_size)\n",
        "split_data(SHINE_SOURCE_DIR, TRAINING_SHINE_DIR, VALID_SHINE_DIR, split_size)\n",
        "split_data(SUNRISE_SOURCE_DIR, TRAINING_SUNRISE_DIR, VALID_SUNRISE_DIR, split_size)"
      ],
      "metadata": {
        "id": "1eabwmVqcZZC"
      },
      "execution_count": 14,
      "outputs": []
    },
    {
      "cell_type": "code",
      "source": [
        "# to see how the differnt types of weather balance in our test dataset, we plot a bar plot\n",
        "\n",
        "import matplotlib.pyplot as plt\n",
        "import seaborn as sns\n",
        "from matplotlib.image import imread\n",
        "import pathlib\n",
        "\n",
        "image_folder = ['cloudy', 'foggy', 'rainy', 'shine', 'sunrise']\n",
        "nimgs = {}\n",
        "for i in image_folder:\n",
        "    nimages = len(os.listdir('/content/weather-data/train/'+i+'/'))\n",
        "    nimgs[i]=nimages\n",
        "plt.figure(figsize=(9, 6))\n",
        "plt.bar(range(len(nimgs)), list(nimgs.values()), align='center')\n",
        "plt.xticks(range(len(nimgs)), list(nimgs.keys()))\n",
        "plt.title('Distribution of different classes in Training Dataset')\n",
        "plt.show()"
      ],
      "metadata": {
        "colab": {
          "base_uri": "https://localhost:8080/",
          "height": 390
        },
        "id": "favalETxddcW",
        "outputId": "ab76b27f-a1a5-44bd-eceb-b891ed15026b"
      },
      "execution_count": 15,
      "outputs": [
        {
          "output_type": "display_data",
          "data": {
            "text/plain": [
              "<Figure size 648x432 with 1 Axes>"
            ],
            "image/png": "[encoded data removed]"
          },
          "metadata": {
            "needs_background": "light"
          }
        }
      ]
    },
    {
      "cell_type": "code",
      "source": [
        "# the cart gives a rough estimation of the length of the different datasets in our test data. This checks the exact length in each type of weather\n",
        "\n",
        "for i in ['cloudy', 'foggy', 'rainy', 'shine', 'sunrise']:\n",
        "    print('Training {} images are: '.format(i)+str(len(os.listdir('/content/weather-data/train/'+i+'/'))))"
      ],
      "metadata": {
        "colab": {
          "base_uri": "https://localhost:8080/"
        },
        "id": "GJj-F3Uze2w8",
        "outputId": "77008c85-fa08-4430-b536-b67fafce6683"
      },
      "execution_count": 16,
      "outputs": [
        {
          "output_type": "stream",
          "name": "stdout",
          "text": [
            "Training cloudy images are: 295\n",
            "Training foggy images are: 291\n",
            "Training rainy images are: 296\n",
            "Training shine images are: 242\n",
            "Training sunrise images are: 340\n"
          ]
        }
      ]
    },
    {
      "cell_type": "code",
      "source": [
        "#this is for our validation data set. Also checking the length of data we have for the different types of weather\n",
        "\n",
        "image_folder = ['cloudy', 'foggy', 'rainy', 'shine', 'sunrise']\n",
        "nimgs = {}\n",
        "for i in image_folder:\n",
        "    nimages = len(os.listdir('/content/weather-data/validation/'+i+'/'))\n",
        "    nimgs[i]=nimages\n",
        "plt.figure(figsize=(9, 6))\n",
        "plt.bar(range(len(nimgs)), list(nimgs.values()), align='center')\n",
        "plt.xticks(range(len(nimgs)), list(nimgs.keys()))\n",
        "plt.title('Distribution of different classes in Validation Dataset')\n",
        "plt.show()"
      ],
      "metadata": {
        "colab": {
          "base_uri": "https://localhost:8080/",
          "height": 390
        },
        "id": "JgHP2F39fRpT",
        "outputId": "b1a20dbe-d00a-4df9-df91-149bc79e00af"
      },
      "execution_count": 18,
      "outputs": [
        {
          "output_type": "display_data",
          "data": {
            "text/plain": [
              "<Figure size 648x432 with 1 Axes>"
            ],
            "image/png": "[encoded data removed]"
          },
          "metadata": {
            "needs_background": "light"
          }
        }
      ]
    },
    {
      "cell_type": "code",
      "source": [
        "# the cart gives a rough estimation of the length of the different datasets in our validation data. This checks the exact length in each type of weather\n",
        "\n",
        "for i in ['cloudy', 'foggy', 'rainy', 'shine', 'sunrise']:\n",
        "    print('Valid {} images are: '.format(i)+str(len(os.listdir('/content/weather-data/validation/'+i+'/'))))"
      ],
      "metadata": {
        "colab": {
          "base_uri": "https://localhost:8080/"
        },
        "id": "mzNXb-70fr-B",
        "outputId": "a5b9ddec-808b-4f69-e2b9-708a20e8fb0a"
      },
      "execution_count": 19,
      "outputs": [
        {
          "output_type": "stream",
          "name": "stdout",
          "text": [
            "Valid cloudy images are: 85\n",
            "Valid foggy images are: 81\n",
            "Valid rainy images are: 86\n",
            "Valid shine images are: 68\n",
            "Valid sunrise images are: 96\n"
          ]
        }
      ]
    },
    {
      "cell_type": "markdown",
      "source": [
        "# Deep Learning and Data Augmentation"
      ],
      "metadata": {
        "id": "AiOxwi4NgJmO"
      }
    },
    {
      "cell_type": "code",
      "source": [
        "# our various library import for deep learning and data augmentation\n",
        "\n",
        "from tensorflow.keras.optimizers import Adam #for optimization\n",
        "from tensorflow.keras.preprocessing.image import ImageDataGenerator #beacause we are going to use data augmentation\n",
        "from tensorflow.keras.layers import Conv2D, MaxPooling2D, Flatten, Dense, Dropout\n",
        "from tensorflow.keras.models import Sequential\n",
        "from tensorflow.keras.callbacks import EarlyStopping, ModelCheckpoint"
      ],
      "metadata": {
        "id": "yvCUqBPjgbxQ"
      },
      "execution_count": 20,
      "outputs": []
    },
    {
      "cell_type": "code",
      "source": [
        "# to give the data an equal size, we have to set a height and width\n",
        "\n",
        "img_width=256; img_height=256\n",
        "batch_size=16"
      ],
      "metadata": {
        "id": "TGi1MebFhIfC"
      },
      "execution_count": 21,
      "outputs": []
    },
    {
      "cell_type": "code",
      "source": [
        "# the reason we are doing data augmentation is that, because we have less data, we want to augment the data to create more\n",
        "TRAINING_DIR = '/content/weather-data/train/'\n",
        "\n",
        "train_datagen = ImageDataGenerator(rescale = 1/255.0, # rescaling the data\n",
        "                                   rotation_range=30, #creating a rotation. So we take each image it in a 30 degrees\n",
        "                                   zoom_range=0.4,\n",
        "                                   horizontal_flip=True) # meaning image will be rotated to the 90 degree\n",
        "\n",
        "train_generator = train_datagen.flow_from_directory(TRAINING_DIR,\n",
        "                                                    batch_size=batch_size,\n",
        "                                                    class_mode='categorical',\n",
        "                                                    target_size=(img_height, img_width))\n",
        "\n",
        "#results mean that when you sum up the all the items in the graph you will get the results"
      ],
      "metadata": {
        "colab": {
          "base_uri": "https://localhost:8080/"
        },
        "id": "_Jjw2W9lhnum",
        "outputId": "3368391e-257f-4cb3-9e0d-b7186f1a1ff8"
      },
      "execution_count": 22,
      "outputs": [
        {
          "output_type": "stream",
          "name": "stdout",
          "text": [
            "Found 1464 images belonging to 5 classes.\n"
          ]
        }
      ]
    },
    {
      "cell_type": "code",
      "source": [
        "# repeating the same for the validation dataset, this is to validate to see how the model is doing\n",
        "VALIDATION_DIR = '/content/weather-data/validation/'\n",
        "\n",
        "validation_datagen = ImageDataGenerator(rescale = 1/255.0)\n",
        "\n",
        "validation_generator = validation_datagen.flow_from_directory(VALIDATION_DIR,\n",
        "                                                              batch_size=batch_size,\n",
        "                                                              class_mode='categorical',\n",
        "                                                              target_size=(img_height, img_width)\n",
        "                                                             )\n"
      ],
      "metadata": {
        "id": "KJ4_o1l3txjc"
      },
      "execution_count": null,
      "outputs": []
    },
    {
      "cell_type": "code",
      "source": [
        "callbacks = EarlyStopping(monitor='val_loss', patience=5, verbose=1, mode='auto')\n",
        "# autosave best Model\n",
        "best_model_file = '/content/CNN_aug_best_weights.h5'\n",
        "best_model = ModelCheckpoint(best_model_file, monitor='val_acc', verbose = 1, save_best_only = True)"
      ],
      "metadata": {
        "id": "8MgsMYoNvgni"
      },
      "execution_count": null,
      "outputs": []
    },
    {
      "cell_type": "code",
      "source": [
        "# we created a sequential model, under the sequenntial model, we created 16 neurons\n",
        "model = Sequential([\n",
        "    Conv2D(16, (3, 3), activation='relu', input_shape=(img_height, img_width, 3)), MaxPooling2D(2, 2),\n",
        "    Conv2D(32, (3, 3), activation='relu'), MaxPooling2D(2, 2),\n",
        "    Conv2D(64, (3, 3), activation='relu'),\n",
        "    Conv2D(64, (3, 3), activation='relu'),\n",
        "    MaxPooling2D(2, 2),\n",
        "    Conv2D(128, (3, 3), activation='relu'),\n",
        "    Conv2D(128, (3, 3), activation='relu'),\n",
        "    MaxPooling2D(2, 2),\n",
        "    Conv2D(256, (3, 3), activation='relu'),\n",
        "    Conv2D(256, (3, 3), activation='relu'),\n",
        "    Conv2D(256, (3, 3), activation='relu'),\n",
        "    MaxPooling2D(2, 2),\n",
        "    Flatten(),\n",
        "    Dense(512, activation='relu'),\n",
        "    Dense(512, activation='relu'),\n",
        "    Dense(5, activation='softmax')\n",
        "])\n",
        "model.summary()"
      ],
      "metadata": {
        "id": "sYZBLD8RvofD"
      },
      "execution_count": null,
      "outputs": []
    }
  ]
}